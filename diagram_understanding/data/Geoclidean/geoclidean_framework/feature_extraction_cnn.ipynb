{
 "cells": [
  {
   "cell_type": "code",
   "execution_count": 1,
   "id": "ac0b51ed",
   "metadata": {},
   "outputs": [],
   "source": [
    "import tensorflow\n",
    "from tensorflow.keras.applications.vgg16 import VGG16\n",
    "from tensorflow.keras.applications import InceptionV3\n",
    "from tensorflow.keras.applications import ResNet50\n",
    "from tensorflow.keras.preprocessing import image\n",
    "from tensorflow.keras.applications.vgg16 import preprocess_input,decode_predictions\n",
    "import numpy as np\n",
    "import matplotlib.pyplot as plt\n",
    "from sklearn.metrics import auc"
   ]
  },
  {
   "cell_type": "code",
   "execution_count": 2,
   "id": "5f3c13a2",
   "metadata": {},
   "outputs": [],
   "source": [
    "def vgg_model():\n",
    "    model = VGG16(weights='imagenet')\n",
    "    int_model = tensorflow.keras.Model(model.inputs, [model.layers[5].output, model.layers[17].output])\n",
    "    return int_model\n",
    "\n",
    "\n",
    "def resnet_model():\n",
    "    model = ResNet50(weights='imagenet')\n",
    "    int_model = tensorflow.keras.Model(model.inputs, [model.layers[14].output, model.layers[168].output])\n",
    "    return int_model\n",
    "\n",
    "\n",
    "def inception_model():\n",
    "    model = InceptionV3(weights='imagenet')\n",
    "    int_model = tensorflow.keras.Model(model.inputs, [model.layers[31].output, model.layers[284].output])\n",
    "    return int_model\n",
    "\n",
    "\n",
    "def features_for_img(img_path, int_model, size):\n",
    "    img = plt.imread(img_path)[:, :, :3]\n",
    "    img = tensorflow.image.resize(img, [size, size]).numpy()\n",
    "    img = np.expand_dims(img, 0)\n",
    "    \n",
    "    low, high = int_model.predict(img)\n",
    "    return low, high\n",
    "\n",
    "\n",
    "def get_features_for_task(base_path, int_model, size):\n",
    "    train_base_path = base_path + 'train/'\n",
    "    base_path = base_path + 'test/'\n",
    "    \n",
    "    train_wugs_low = []\n",
    "    train_wugs_high = []\n",
    "    for i in range(1, 6):\n",
    "        curr_path = train_base_path + str(i) + '_fin.png'\n",
    "        low, high = features_for_img(curr_path, int_model, size)\n",
    "        train_wugs_low.append(low)\n",
    "        train_wugs_high.append(high)\n",
    "        \n",
    "    wugs_low = []\n",
    "    wugs_high = []\n",
    "    for i in range(1, 6):\n",
    "        curr_path = base_path + 'in_' + str(i) + '_fin.png'\n",
    "        low, high = features_for_img(curr_path, int_model, size)\n",
    "        wugs_low.append(low)\n",
    "        wugs_high.append(high)\n",
    "\n",
    "    not_wugs_low_close = []\n",
    "    not_wugs_high_close = []\n",
    "    for i in range(1, 6):\n",
    "        curr_path = base_path + 'out_close_' + str(i) + '_fin.png'\n",
    "        low, high = features_for_img(curr_path, int_model, size)\n",
    "        not_wugs_low_close.append(low)\n",
    "        not_wugs_high_close.append(high)\n",
    "        \n",
    "    not_wugs_low_far = []\n",
    "    not_wugs_high_far = []\n",
    "    for i in range(1, 6):\n",
    "        curr_path = base_path + 'out_far_' + str(i) + '_fin.png'\n",
    "        low, high = features_for_img(curr_path, int_model, size)\n",
    "        not_wugs_low_far.append(low)\n",
    "        not_wugs_high_far.append(high)\n",
    "        \n",
    "    return (train_wugs_low, train_wugs_high, wugs_low, wugs_high, not_wugs_low_close, not_wugs_high_close, not_wugs_low_far, not_wugs_high_far)\n"
   ]
  },
  {
   "cell_type": "code",
   "execution_count": 5,
   "id": "3ceb26fa",
   "metadata": {},
   "outputs": [],
   "source": [
    "int_model = vgg_model()"
   ]
  },
  {
   "cell_type": "code",
   "execution_count": 6,
   "id": "7c5fd40a",
   "metadata": {},
   "outputs": [],
   "source": [
    "# Please replace with new path.\n",
    "features = get_features_for_task('/viscam/u/joycj/geoclidean/dataset/geoclidean/constraints/concept_cct/', int_model, 224)\n"
   ]
  },
  {
   "cell_type": "code",
   "execution_count": null,
   "id": "59be2111",
   "metadata": {},
   "outputs": [],
   "source": []
  }
 ],
 "metadata": {
  "kernelspec": {
   "display_name": "Python 3 (ipykernel)",
   "language": "python",
   "name": "python3"
  },
  "language_info": {
   "codemirror_mode": {
    "name": "ipython",
    "version": 3
   },
   "file_extension": ".py",
   "mimetype": "text/x-python",
   "name": "python",
   "nbconvert_exporter": "python",
   "pygments_lexer": "ipython3",
   "version": "3.10.4"
  }
 },
 "nbformat": 4,
 "nbformat_minor": 5
}
